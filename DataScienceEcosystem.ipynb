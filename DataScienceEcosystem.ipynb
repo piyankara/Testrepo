{
 "cells": [
  {
   "cell_type": "markdown",
   "id": "b09ec392",
   "metadata": {},
   "source": [
    "# Data Science Tools and Ecosystem"
   ]
  },
  {
   "cell_type": "markdown",
   "id": "f3dfb573",
   "metadata": {},
   "source": [
    "In this notebook, Data Science Tools and Ecosystem are summarized.\n"
   ]
  },
  {
   "cell_type": "markdown",
   "id": "96c8b6c2",
   "metadata": {},
   "source": [
    "<b>Objectives:</b>\n",
    "- Python\n",
    "- R\n",
    "- Scala\n",
    "- Julia"
   ]
  },
  {
   "cell_type": "markdown",
   "id": "91b9b53b",
   "metadata": {},
   "source": [
    "Some of the popular languages that Data Scientists use are:\n",
    "1. Python \n",
    "2. R\n",
    "3. Julia"
   ]
  },
  {
   "cell_type": "markdown",
   "id": "575e0475",
   "metadata": {},
   "source": [
    "Some of the commonly used libraries used by Data Scientists include:\n",
    "1. Numpy \n",
    "2. Matplotlib\n",
    "3. Scikit learn"
   ]
  },
  {
   "cell_type": "markdown",
   "id": "217d6b75",
   "metadata": {},
   "source": [
    "|Data Science Tools|\n",
    "|---|\n",
    "|RStudio|\n",
    "|Jupyter lab|\n",
    "|Anaconda|\n"
   ]
  },
  {
   "cell_type": "markdown",
   "id": "c74fb588",
   "metadata": {},
   "source": [
    "### Below are a few examples of evaluating arithmetic expressions in Python"
   ]
  },
  {
   "cell_type": "code",
   "execution_count": 1,
   "id": "a589f2eb",
   "metadata": {},
   "outputs": [
    {
     "data": {
      "text/plain": [
       "17"
      ]
     },
     "execution_count": 1,
     "metadata": {},
     "output_type": "execute_result"
    }
   ],
   "source": [
    "# This a simple arithmetic expression to mutiply then add integers\n",
    "(3*4)+5"
   ]
  },
  {
   "cell_type": "code",
   "execution_count": 2,
   "id": "05be5432",
   "metadata": {},
   "outputs": [
    {
     "data": {
      "text/plain": [
       "3.3333333333333335"
      ]
     },
     "execution_count": 2,
     "metadata": {},
     "output_type": "execute_result"
    }
   ],
   "source": [
    "# This will convert 200 minutes to hours by diving by 60\n",
    "200/60"
   ]
  },
  {
   "cell_type": "markdown",
   "id": "3b55d648",
   "metadata": {},
   "source": [
    "## Author\n",
    "pasidu"
   ]
  },
  {
   "cell_type": "code",
   "execution_count": null,
   "id": "fb060b11",
   "metadata": {},
   "outputs": [],
   "source": []
  }
 ],
 "metadata": {
  "kernelspec": {
   "display_name": "Python 3 (ipykernel)",
   "language": "python",
   "name": "python3"
  },
  "language_info": {
   "codemirror_mode": {
    "name": "ipython",
    "version": 3
   },
   "file_extension": ".py",
   "mimetype": "text/x-python",
   "name": "python",
   "nbconvert_exporter": "python",
   "pygments_lexer": "ipython3",
   "version": "3.9.7"
  }
 },
 "nbformat": 4,
 "nbformat_minor": 5
}
